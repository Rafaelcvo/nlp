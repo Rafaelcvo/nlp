{
 "cells": [
  {
   "cell_type": "markdown",
   "metadata": {},
   "source": [
    "#### Pontifícia Universidade Católica de Minas Gerais<br>Curso: Ciência de Dados e Big Data<br>Disciplina: Processamento de Linguagem Natural<br>Aluna: Rafael Moreira da Costa "
   ]
  },
  {
   "cell_type": "markdown",
   "metadata": {},
   "source": [
    "# Exercício 1"
   ]
  },
  {
   "cell_type": "code",
   "execution_count": 1,
   "metadata": {},
   "outputs": [],
   "source": [
    "# import da biblioteca\n",
    "import re"
   ]
  },
  {
   "cell_type": "code",
   "execution_count": 2,
   "metadata": {},
   "outputs": [],
   "source": [
    "# funcoes\n",
    "\n",
    "def multi_re_find(patterns, phrase):\n",
    "    for pattern in patterns:\n",
    "        print('Procurando a frase usando o re check: %r' %pattern)\n",
    "        print(re.findall(pattern, phrase))\n",
    "        print('\\n')"
   ]
  },
  {
   "cell_type": "markdown",
   "metadata": {},
   "source": [
    "### 1. Escreva um programa em Python que verifique uma string que tenha um único <i>a</i> seguido por <i>zero</i> b ou mais <i>b's</i>."
   ]
  },
  {
   "cell_type": "code",
   "execution_count": 3,
   "metadata": {},
   "outputs": [],
   "source": [
    "# texto para verificacao\n",
    "text1 = \"\"\"Este é um texto de verificação se existe a nas palavras podendo ser seguido de zero b ou mais b's como\n",
    "        por exemplo a, ab, abb, abbb.\"\"\"\n",
    "verif1 = ['ab*']"
   ]
  },
  {
   "cell_type": "code",
   "execution_count": 4,
   "metadata": {
    "scrolled": true
   },
   "outputs": [
    {
     "name": "stdout",
     "output_type": "stream",
     "text": [
      "Procurando a frase usando o re check: 'ab*'\n",
      "['a', 'a', 'a', 'a', 'a', 'a', 'a', 'a', 'ab', 'abb', 'abbb']\n",
      "\n",
      "\n"
     ]
    }
   ],
   "source": [
    "# chamando a função\n",
    "multi_re_find(verif1, text1)"
   ]
  },
  {
   "cell_type": "markdown",
   "metadata": {},
   "source": [
    "### 2. Escreva um programa em Python para checar se uma string contém somente um conjunto de caracteres (neste caso, considere a-z, A-Z e 0-9)."
   ]
  },
  {
   "cell_type": "code",
   "execution_count": 5,
   "metadata": {},
   "outputs": [],
   "source": [
    "text2 = \"Sentença utilizando palavras minusculas, MAIUSCULAS, e numeros como 0, 1, 10, 20.\"\n",
    "\n",
    "verf2 = ['[a-z]+','[A-Z]+', '[a-zA-Z]+', '[A-Z][a-z]','[0-9]+'] "
   ]
  },
  {
   "cell_type": "code",
   "execution_count": 6,
   "metadata": {},
   "outputs": [
    {
     "name": "stdout",
     "output_type": "stream",
     "text": [
      "Procurando a frase usando o re check: '[a-z]+'\n",
      "['enten', 'a', 'utilizando', 'palavras', 'minusculas', 'e', 'numeros', 'como']\n",
      "\n",
      "\n",
      "Procurando a frase usando o re check: '[A-Z]+'\n",
      "['S', 'MAIUSCULAS']\n",
      "\n",
      "\n",
      "Procurando a frase usando o re check: '[a-zA-Z]+'\n",
      "['Senten', 'a', 'utilizando', 'palavras', 'minusculas', 'MAIUSCULAS', 'e', 'numeros', 'como']\n",
      "\n",
      "\n",
      "Procurando a frase usando o re check: '[A-Z][a-z]'\n",
      "['Se']\n",
      "\n",
      "\n",
      "Procurando a frase usando o re check: '[0-9]+'\n",
      "['0', '1', '10', '20']\n",
      "\n",
      "\n"
     ]
    }
   ],
   "source": [
    "multi_re_find(verf2, text2)"
   ]
  },
  {
   "cell_type": "markdown",
   "metadata": {},
   "source": [
    "### 3. Escreva um programa em Python para encontrar sequências de letras minúsculas unidas com um underscore."
   ]
  },
  {
   "cell_type": "code",
   "execution_count": 7,
   "metadata": {},
   "outputs": [],
   "source": [
    "text3 = \"Sequencia de letras min_usculas usa_ndo ud_escore: teste_unde\"\n",
    "verif3 = ['[a-z]+_[a-z]+']"
   ]
  },
  {
   "cell_type": "code",
   "execution_count": 8,
   "metadata": {},
   "outputs": [
    {
     "name": "stdout",
     "output_type": "stream",
     "text": [
      "Procurando a frase usando o re check: '[a-z]+_[a-z]+'\n",
      "['min_usculas', 'usa_ndo', 'ud_escore', 'teste_unde']\n",
      "\n",
      "\n"
     ]
    }
   ],
   "source": [
    "multi_re_find(verif3, text3)"
   ]
  },
  {
   "cell_type": "markdown",
   "metadata": {},
   "source": [
    "### 4. Escreva um programa em Python para encontrar seqüências de uma letra maiúscula seguida por letras minúsculas."
   ]
  },
  {
   "cell_type": "code",
   "execution_count": 9,
   "metadata": {},
   "outputs": [],
   "source": [
    "text4 = \"Sequencia de letra Maiuscula seguido por Letras Minusculas.\"\n",
    "verif4 = ['[A-Z][a-z]+']"
   ]
  },
  {
   "cell_type": "code",
   "execution_count": 10,
   "metadata": {},
   "outputs": [
    {
     "name": "stdout",
     "output_type": "stream",
     "text": [
      "Procurando a frase usando o re check: '[A-Z][a-z]+'\n",
      "['Sequencia', 'Maiuscula', 'Letras', 'Minusculas']\n",
      "\n",
      "\n"
     ]
    }
   ],
   "source": [
    "multi_re_find(verif4, text4)"
   ]
  },
  {
   "cell_type": "markdown",
   "metadata": {},
   "source": [
    "### 5. Escreva um programa em Python que corresponda a uma palavra contendo 'z'."
   ]
  },
  {
   "cell_type": "code",
   "execution_count": 11,
   "metadata": {},
   "outputs": [],
   "source": [
    "text5 = \"\"\"Texto de busca por palavras contendo a letra z, como por exemplo zebra, zoologico. \n",
    "            A letra z sozinha nao sera retornado na busca.\"\"\""
   ]
  },
  {
   "cell_type": "markdown",
   "metadata": {},
   "source": [
    "A primeira maneira que eu encontrei retornou apenas uma palavra contendo a letra z."
   ]
  },
  {
   "cell_type": "code",
   "execution_count": 12,
   "metadata": {},
   "outputs": [
    {
     "data": {
      "text/plain": [
       "['sozinha']"
      ]
     },
     "execution_count": 12,
     "metadata": {},
     "output_type": "execute_result"
    }
   ],
   "source": [
    "re.findall(r'\\w+z\\w+', text5)"
   ]
  },
  {
   "cell_type": "markdown",
   "metadata": {},
   "source": [
    "Já a segunda maneira retornou as palavra começando a parti do z."
   ]
  },
  {
   "cell_type": "code",
   "execution_count": 13,
   "metadata": {},
   "outputs": [
    {
     "name": "stdout",
     "output_type": "stream",
     "text": [
      "['zebra', 'zoologico', 'zinha']\n"
     ]
    }
   ],
   "source": [
    "palav = re.findall(r'z\\w+', text5)\n",
    "print(palav)"
   ]
  },
  {
   "cell_type": "markdown",
   "metadata": {},
   "source": [
    "Fiz de outra forma aplicando o re.compile"
   ]
  },
  {
   "cell_type": "code",
   "execution_count": 14,
   "metadata": {},
   "outputs": [
    {
     "data": {
      "text/plain": [
       "['zebra', 'zoologico', 'sozinha']"
      ]
     },
     "execution_count": 14,
     "metadata": {},
     "output_type": "execute_result"
    }
   ],
   "source": [
    "pattern = r'\\b(z[a-z]+|[a-z]+z|[a-z]+z[a-z]+)\\b'\n",
    "regex = re.compile(pattern, flags=re.IGNORECASE)\n",
    "regex.findall(text5)"
   ]
  },
  {
   "cell_type": "markdown",
   "metadata": {},
   "source": [
    "Está foi uma maneira passada atraves de ajuda em forum onde existe três parametros no código.<br>\n",
    "A busca é feita da seguinte maneira:\n",
    "<ul>\n",
    "    <li>uma palavra que começa com z: z[a-z]+, ou</li>\n",
    "    <li>uma palavra que termina com z: [a-z]+z, ou</li>\n",
    "    <li>uma palavra com z no meio: [a-z]+z[a-z]+</li>\n",
    "</ul>"
   ]
  },
  {
   "cell_type": "code",
   "execution_count": 15,
   "metadata": {},
   "outputs": [
    {
     "name": "stdout",
     "output_type": "stream",
     "text": [
      "['zebra', 'zoologico', 'sozinha']\n"
     ]
    }
   ],
   "source": [
    "palavras = re.findall(r'\\b(z[a-z]+|[a-z]+z|[a-z]+z[a-z]+)\\b', text5, re.I)\n",
    "print(palavras) "
   ]
  },
  {
   "cell_type": "markdown",
   "metadata": {},
   "source": [
    "### 6. Escreva um programa em Python que dado uma string que começa com um número específico."
   ]
  },
  {
   "cell_type": "code",
   "execution_count": 16,
   "metadata": {},
   "outputs": [],
   "source": [
    "text6 = \"O numero do atendimento foi 88239632 e não 76539632, portanto basta substituir o 765 pelo 882.\"\n",
    "verif6 = [r'\\b8\\d+']"
   ]
  },
  {
   "cell_type": "code",
   "execution_count": 17,
   "metadata": {},
   "outputs": [
    {
     "name": "stdout",
     "output_type": "stream",
     "text": [
      "Procurando a frase usando o re check: '\\\\b8\\\\d+'\n",
      "['88239632', '882']\n",
      "\n",
      "\n"
     ]
    }
   ],
   "source": [
    "multi_re_find(verif6, text6)"
   ]
  },
  {
   "cell_type": "markdown",
   "metadata": {},
   "source": [
    "### 7. Escreva um programa em Python que match uma palavra contendo a letra 'z', mas não pode ser no início ou no fim da palavra."
   ]
  },
  {
   "cell_type": "code",
   "execution_count": 18,
   "metadata": {},
   "outputs": [],
   "source": [
    "text7 = \"Andre queria fazer algo no domingo sozinho, entao foi ao zoologico ver as zebras.\"\n",
    "verif7 = [r'\\w+z\\w+']"
   ]
  },
  {
   "cell_type": "code",
   "execution_count": 19,
   "metadata": {},
   "outputs": [
    {
     "name": "stdout",
     "output_type": "stream",
     "text": [
      "Procurando a frase usando o re check: '\\\\w+z\\\\w+'\n",
      "['fazer', 'sozinho']\n",
      "\n",
      "\n"
     ]
    }
   ],
   "source": [
    "multi_re_find(verif7, text7)"
   ]
  },
  {
   "cell_type": "markdown",
   "metadata": {},
   "source": [
    "### 8. Escreva um programa que separa uma string nas letras maiúsculas.\\newline\\newline"
   ]
  },
  {
   "cell_type": "code",
   "execution_count": 20,
   "metadata": {},
   "outputs": [],
   "source": [
    "text8 = \"Separando uma String nas letras Maisculas da frase.\""
   ]
  },
  {
   "cell_type": "code",
   "execution_count": 21,
   "metadata": {},
   "outputs": [
    {
     "data": {
      "text/plain": [
       "['', 'eparando uma ', 'tring nas letras ', 'aisculas da frase.']"
      ]
     },
     "execution_count": 21,
     "metadata": {},
     "output_type": "execute_result"
    }
   ],
   "source": [
    "re.split(r'[A-Z]+', text8)"
   ]
  },
  {
   "cell_type": "markdown",
   "metadata": {},
   "source": [
    "# Desafio"
   ]
  },
  {
   "cell_type": "markdown",
   "metadata": {},
   "source": [
    "### Escreva um programa em Python que converte a data de yyyy-mm-dd para o formato dd-mm-yyyy formato"
   ]
  },
  {
   "cell_type": "code",
   "execution_count": 22,
   "metadata": {},
   "outputs": [],
   "source": [
    "text_desaf = \"A data definida foi 2018-03-06.\""
   ]
  },
  {
   "cell_type": "code",
   "execution_count": 23,
   "metadata": {},
   "outputs": [],
   "source": [
    "def convert(text):\n",
    "    dt = re.findall('\\d+', text)\n",
    "    tx = re.sub(dt[0], 'xx', text)\n",
    "    tx = re.sub(dt[2], dt[0], tx)\n",
    "    tx = re.sub('xx', dt[2], tx)\n",
    "    print(tx)"
   ]
  },
  {
   "cell_type": "code",
   "execution_count": 24,
   "metadata": {},
   "outputs": [
    {
     "name": "stdout",
     "output_type": "stream",
     "text": [
      "A data definida foi 06-03-2018.\n"
     ]
    }
   ],
   "source": [
    "convert(text_desaf)"
   ]
  },
  {
   "cell_type": "markdown",
   "metadata": {},
   "source": [
    "Tentei usar essa outra forma também."
   ]
  },
  {
   "cell_type": "code",
   "execution_count": 25,
   "metadata": {},
   "outputs": [],
   "source": [
    "def convert(text):\n",
    "    dt = re.findall(r'\\d+', text)\n",
    "    tx = re.findall(r'\\w+', text)\n",
    "    for i in range(len(tx)):\n",
    "        if dt[0] == tx[i]:\n",
    "            tx[i] = dt[2]\n",
    "        elif dt[2] == tx[i]:\n",
    "            tx[i] = dt[0]\n",
    "    print(tx)"
   ]
  },
  {
   "cell_type": "code",
   "execution_count": 26,
   "metadata": {},
   "outputs": [
    {
     "name": "stdout",
     "output_type": "stream",
     "text": [
      "['A', 'data', 'definida', 'foi', '06', '03', '2018']\n"
     ]
    }
   ],
   "source": [
    "convert(text_desaf)"
   ]
  }
 ],
 "metadata": {
  "kernelspec": {
   "display_name": "Python 3",
   "language": "python",
   "name": "python3"
  },
  "language_info": {
   "codemirror_mode": {
    "name": "ipython",
    "version": 3
   },
   "file_extension": ".py",
   "mimetype": "text/x-python",
   "name": "python",
   "nbconvert_exporter": "python",
   "pygments_lexer": "ipython3",
   "version": "3.7.3"
  }
 },
 "nbformat": 4,
 "nbformat_minor": 2
}
