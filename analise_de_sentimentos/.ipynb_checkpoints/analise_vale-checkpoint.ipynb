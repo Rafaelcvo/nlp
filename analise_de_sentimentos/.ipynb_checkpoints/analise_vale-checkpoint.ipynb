{
 "cells": [
  {
   "cell_type": "markdown",
   "metadata": {},
   "source": [
    "# Referencias\n",
    "\n",
    "Documentação<br>\n",
    "http://docs.tweepy.org/en/v3.8.0/api.html\n",
    "\n",
    "Twython<br>\n",
    "https://twython.readthedocs.io/en/latest/\n",
    "\n",
    "https://paulovasconcellos.com.br/aprenda-a-fazer-um-analisador-de-sentimentos-do-twitter-em-python-3979454f2d0d\n",
    "\n",
    "Existem tokenizadores escritos especificamente para o texto do twitter, consulte http://www.nltk.org/api/nltk.tokenize.html#module-nltk.tokenize.casual"
   ]
  },
  {
   "cell_type": "code",
   "execution_count": 1,
   "metadata": {},
   "outputs": [],
   "source": [
    "# Instalando as bibliotecas\n",
    "\n",
    "#!pip install textblob\n",
    "#!pip install tweepy\n",
    "#!pip install googletrans\n",
    "#!pip install unidecode"
   ]
  },
  {
   "cell_type": "code",
   "execution_count": 2,
   "metadata": {},
   "outputs": [],
   "source": [
    "# importando as bibliotecas\n",
    "from textblob import TextBlob\n",
    "import tweepy\n",
    "import numpy as np\n",
    "from googletrans import Translator\n",
    "from unidecode import unidecode"
   ]
  },
  {
   "cell_type": "code",
   "execution_count": 3,
   "metadata": {},
   "outputs": [],
   "source": [
    "# Gerando as chaves de autenticação\n",
    "consumer_key = 't8BmYeZnESPfuOhS61QCsdGUY'\n",
    "consumer_secret = 'B8IjWrjEL8Ix6UwE63bbZVGwmcaLGWkIhTDB7JEl7iydf9Ho5P'\n",
    "access_token = '146989862-nHVnb94fJnMmbmoUniHzphbz0DwpMlnjZEANXbjH'\n",
    "access_token_secret = 'ZzfjL8jjPFnsSxTVZM0MvFO0oEV1vgyxMSpHT6SDQkA5q'"
   ]
  },
  {
   "cell_type": "code",
   "execution_count": 4,
   "metadata": {},
   "outputs": [],
   "source": [
    "# Gerando o login\n",
    "auth = tweepy.OAuthHandler(consumer_key, consumer_secret)\n",
    "auth.set_access_token(access_token, access_token_secret)\n",
    "api = tweepy.API(auth)"
   ]
  },
  {
   "cell_type": "code",
   "execution_count": 16,
   "metadata": {},
   "outputs": [
    {
     "name": "stdout",
     "output_type": "stream",
     "text": [
      "Usuario: quiz__ - Tweet: Tucano em Paris curtindo a vida adoidado no apê do Jovelino depois de doar a Vale  do Rio Doce pela bagatela de 3,3… https://t.co/YoVqYXN3EL\n",
      "Usuario: reciferock - Tweet: RT @gerdwenzel: Ninguém mais fala sobre o crime ambiental da Samarco que resultou em 19 pessoas mortas e na agonia do Rio Doce. Nenhum exec…\n",
      "Usuario: SchizoidMendes - Tweet: RT @gerdwenzel: Ninguém mais fala sobre o crime ambiental da Samarco que resultou em 19 pessoas mortas e na agonia do Rio Doce. Nenhum exec…\n",
      "Usuario: carmenGonz8 - Tweet: RT @gerdwenzel: Ninguém mais fala sobre o crime ambiental da Samarco que resultou em 19 pessoas mortas e na agonia do Rio Doce. Nenhum exec…\n",
      "Usuario: Felippe46469634 - Tweet: RT @gerdwenzel: Ninguém mais fala sobre o crime ambiental da Samarco que resultou em 19 pessoas mortas e na agonia do Rio Doce. Nenhum exec…\n",
      "Usuario: 1ea6a14094be4d6 - Tweet: RT @gerdwenzel: Ninguém mais fala sobre o crime ambiental da Samarco que resultou em 19 pessoas mortas e na agonia do Rio Doce. Nenhum exec…\n",
      "Usuario: rodrigojara01 - Tweet: RT @gerdwenzel: Ninguém mais fala sobre o crime ambiental da Samarco que resultou em 19 pessoas mortas e na agonia do Rio Doce. Nenhum exec…\n",
      "Usuario: ivansb2009 - Tweet: RT @gerdwenzel: Ninguém mais fala sobre o crime ambiental da Samarco que resultou em 19 pessoas mortas e na agonia do Rio Doce. Nenhum exec…\n",
      "Usuario: luizgilsonjr - Tweet: RT @gerdwenzel: Ninguém mais fala sobre o crime ambiental da Samarco que resultou em 19 pessoas mortas e na agonia do Rio Doce. Nenhum exec…\n",
      "Usuario: lorenzoxmartins - Tweet: RT @gerdwenzel: Ninguém mais fala sobre o crime ambiental da Samarco que resultou em 19 pessoas mortas e na agonia do Rio Doce. Nenhum exec…\n"
     ]
    }
   ],
   "source": [
    "tweets = [] \n",
    "for tweet in tweepy.Cursor(api.search, q=\"vale rio doce\", lang=\"pt\").items(10): \n",
    "    print(f'Usuario: {tweet.user.screen_name} - Tweet: {tweet.text}')\n",
    "    tweets.append(unidecode(tweet.text)) #since='2019-10-25'"
   ]
  },
  {
   "cell_type": "code",
   "execution_count": 13,
   "metadata": {},
   "outputs": [
    {
     "data": {
      "text/plain": [
       "100"
      ]
     },
     "execution_count": 13,
     "metadata": {},
     "output_type": "execute_result"
    }
   ],
   "source": [
    "len(tweets)"
   ]
  },
  {
   "cell_type": "code",
   "execution_count": 8,
   "metadata": {},
   "outputs": [
    {
     "data": {
      "text/plain": [
       "'RT @gerdwenzel: Ninguem mais fala sobre o crime ambiental da Samarco que resultou em 19 pessoas mortas e na agonia do Rio Doce. Nenhum exec...'"
      ]
     },
     "execution_count": 8,
     "metadata": {},
     "output_type": "execute_result"
    }
   ],
   "source": [
    "tweets[1]"
   ]
  }
 ],
 "metadata": {
  "kernelspec": {
   "display_name": "Python 3",
   "language": "python",
   "name": "python3"
  },
  "language_info": {
   "codemirror_mode": {
    "name": "ipython",
    "version": 3
   },
   "file_extension": ".py",
   "mimetype": "text/x-python",
   "name": "python",
   "nbconvert_exporter": "python",
   "pygments_lexer": "ipython3",
   "version": "3.7.3"
  }
 },
 "nbformat": 4,
 "nbformat_minor": 2
}
