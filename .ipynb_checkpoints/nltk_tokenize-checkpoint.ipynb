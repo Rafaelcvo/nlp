{
 "cells": [
  {
   "cell_type": "markdown",
   "metadata": {},
   "source": [
    "Video youtube<br>\n",
    "https://www.youtube.com/watch?v=F-hNoXvwz2k<br>\n",
    "https://www.youtube.com/channel/UCwZFL945LUQcF9OpEWSfbeg/search?query=nlp"
   ]
  },
  {
   "cell_type": "code",
   "execution_count": 2,
   "metadata": {},
   "outputs": [],
   "source": [
    "# import das bibliotecas\n",
    "\n",
    "from nltk.tokenize import word_tokenize as w"
   ]
  },
  {
   "cell_type": "code",
   "execution_count": 3,
   "metadata": {},
   "outputs": [
    {
     "data": {
      "text/plain": [
       "['Hello', 'word', '!']"
      ]
     },
     "execution_count": 3,
     "metadata": {},
     "output_type": "execute_result"
    }
   ],
   "source": [
    "w('Hello word!')"
   ]
  },
  {
   "cell_type": "code",
   "execution_count": 5,
   "metadata": {},
   "outputs": [
    {
     "data": {
      "text/plain": [
       "['Ola',\n",
       " ',',\n",
       " 'este',\n",
       " 'sao',\n",
       " 'testes',\n",
       " 'para',\n",
       " 'verificar',\n",
       " 'tokenização',\n",
       " 'das',\n",
       " 'palavras',\n",
       " ',',\n",
       " 'mas',\n",
       " 'repetindo',\n",
       " 'os',\n",
       " 'testes',\n",
       " '.']"
      ]
     },
     "execution_count": 5,
     "metadata": {},
     "output_type": "execute_result"
    }
   ],
   "source": [
    "w('Ola, este sao testes para verificar tokenização das palavras, mas repetindo os testes.')"
   ]
  },
  {
   "cell_type": "code",
   "execution_count": 6,
   "metadata": {},
   "outputs": [],
   "source": [
    "# Dividindo os blocos em senenças\n",
    "from nltk.tokenize import sent_tokenize as st"
   ]
  },
  {
   "cell_type": "code",
   "execution_count": 11,
   "metadata": {},
   "outputs": [
    {
     "data": {
      "text/plain": [
       "['Eu programo em python.', 'Eu programo em java.', 'Eu programo em R.']"
      ]
     },
     "execution_count": 11,
     "metadata": {},
     "output_type": "execute_result"
    }
   ],
   "source": [
    "st('Eu programo em python. Eu programo em java. Eu programo em R.')"
   ]
  },
  {
   "cell_type": "code",
   "execution_count": 12,
   "metadata": {},
   "outputs": [
    {
     "name": "stdout",
     "output_type": "stream",
     "text": [
      "Eu programo em python.\n",
      "Eu programo em java.\n",
      "Eu programo em R.\n"
     ]
    }
   ],
   "source": [
    "senteca = 'Eu programo em python. Eu programo em java. Eu programo em R.'\n",
    "for sent in st(senteca):\n",
    "    print(sent)"
   ]
  },
  {
   "cell_type": "code",
   "execution_count": 13,
   "metadata": {},
   "outputs": [],
   "source": [
    "with open('arqivo.txt', 'rb') as f:\n",
    "    text = f.read()"
   ]
  },
  {
   "cell_type": "code",
   "execution_count": 23,
   "metadata": {},
   "outputs": [
    {
     "name": "stdout",
     "output_type": "stream",
     "text": [
      "b'Pesquisadores'\n",
      "b'da'\n",
      "b'Universidade'\n",
      "b'Estadual'\n",
      "b'da'\n",
      "b'Carolina'\n",
      "b'do'\n",
      "b'Norte'\n",
      "b'apresentaram'\n",
      "b'recentemente'\n",
      "b'um'\n",
      "b'artigo'\n",
      "b'na'\n",
      "b'Confer\\xc3\\xaancia'\n",
      "b'Internacional'\n",
      "b'de'\n",
      "b'Supercomputa\\xc3\\xa7\\xc3\\xa3o'\n",
      "b'('\n",
      "b'ICS'\n",
      "b')'\n",
      "b'sobre'\n",
      "b'a'\n",
      "b'nova'\n",
      "b't\\xc3\\xa9cnica'\n",
      "b','\n",
      "b'``'\n",
      "b'deep'\n",
      "b'reuse'\n",
      "b\"''\"\n",
      "b'('\n",
      "b'DR'\n",
      "b')'\n",
      "b','\n",
      "b'que'\n",
      "b'pode'\n",
      "b'acelerar'\n",
      "b'o'\n",
      "b'tempo'\n",
      "b'para'\n",
      "b'redes'\n",
      "b'neurais'\n",
      "b'deep'\n",
      "b'learning'\n",
      "b'em'\n",
      "b'execu\\xc3\\xa7\\xc3\\xa3o'\n",
      "b'no'\n",
      "b'TensorFlow'\n",
      "b'em'\n",
      "b'at\\xc3\\xa9'\n",
      "b'2x'\n",
      "b','\n",
      "b'sem'\n",
      "b'quase'\n",
      "b'perder'\n",
      "b'a'\n",
      "b'precis\\xc3\\xa3o'\n",
      "b'.'\n"
     ]
    }
   ],
   "source": [
    "for sent in st(text.decode('utf8')):\n",
    "    for token in w(sent):\n",
    "        print(token.encode('utf8'))\n",
    "    break"
   ]
  },
  {
   "cell_type": "code",
   "execution_count": null,
   "metadata": {},
   "outputs": [],
   "source": []
  }
 ],
 "metadata": {
  "kernelspec": {
   "display_name": "Python 3",
   "language": "python",
   "name": "python3"
  },
  "language_info": {
   "codemirror_mode": {
    "name": "ipython",
    "version": 3
   },
   "file_extension": ".py",
   "mimetype": "text/x-python",
   "name": "python",
   "nbconvert_exporter": "python",
   "pygments_lexer": "ipython3",
   "version": "3.7.3"
  }
 },
 "nbformat": 4,
 "nbformat_minor": 2
}
