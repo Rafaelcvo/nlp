{
 "cells": [
  {
   "cell_type": "markdown",
   "metadata": {},
   "source": [
    "# Exercício 1"
   ]
  },
  {
   "cell_type": "code",
   "execution_count": 1,
   "metadata": {},
   "outputs": [],
   "source": [
    "# import da biblioteca\n",
    "import re"
   ]
  },
  {
   "cell_type": "code",
   "execution_count": 4,
   "metadata": {},
   "outputs": [],
   "source": [
    "# funcoes\n",
    "\n",
    "def multi_re_find(patterns, phrase):\n",
    "    for pattern in patterns:\n",
    "        print('Procurando a frase usando o re check: %r' %pattern)\n",
    "        print(re.findall(pattern, phrase))\n",
    "        print('\\n')"
   ]
  },
  {
   "cell_type": "markdown",
   "metadata": {},
   "source": [
    "### 1. Escreva um programa em Python que verifique uma string que tenha um único <i>a</i> seguido por <i>zero</i> b ou mais <i>b's</i>."
   ]
  },
  {
   "cell_type": "code",
   "execution_count": 13,
   "metadata": {},
   "outputs": [],
   "source": [
    "# texto para verificacao\n",
    "text1 = \"\"\"Este é um texto de verificação se existe a nas palavras podendo ser seguido de zero b ou mais b's como\n",
    "        por exemplo a, ab, abb, abbb.\"\"\"\n",
    "verif1 = ['ab*']"
   ]
  },
  {
   "cell_type": "code",
   "execution_count": 14,
   "metadata": {},
   "outputs": [
    {
     "name": "stdout",
     "output_type": "stream",
     "text": [
      "Procurando a frase usando o re check: 'ab*'\n",
      "['a', 'a', 'a', 'a', 'a', 'a', 'a', 'a', 'ab', 'abb', 'abbb']\n",
      "\n",
      "\n"
     ]
    }
   ],
   "source": [
    "# chamando a função\n",
    "multi_re_find(verif, text1)"
   ]
  },
  {
   "cell_type": "markdown",
   "metadata": {},
   "source": [
    "### 2. Escreva um programa em Python para checar se uma string contém somente um conjunto de caracteres (neste caso, considere a-z, A-Z e 0-9)."
   ]
  },
  {
   "cell_type": "code",
   "execution_count": 27,
   "metadata": {},
   "outputs": [],
   "source": [
    "text2 = \"Sentença utilizando palavras minusculas, MAIUSCULAS, e numeros como 0, 1, 10, 20.\"\n",
    "\n",
    "verf2 = ['[a-z]+','[A-Z]+', '[a-zA-Z]+', '[A-Z][a-z]','[0-9]+'] "
   ]
  },
  {
   "cell_type": "code",
   "execution_count": 28,
   "metadata": {},
   "outputs": [
    {
     "name": "stdout",
     "output_type": "stream",
     "text": [
      "Procurando a frase usando o re check: '[a-z]+'\n",
      "['enten', 'a', 'utilizando', 'palavras', 'minusculas', 'e', 'numeros', 'como']\n",
      "\n",
      "\n",
      "Procurando a frase usando o re check: '[A-Z]+'\n",
      "['S', 'MAIUSCULAS']\n",
      "\n",
      "\n",
      "Procurando a frase usando o re check: '[a-zA-Z]+'\n",
      "['Senten', 'a', 'utilizando', 'palavras', 'minusculas', 'MAIUSCULAS', 'e', 'numeros', 'como']\n",
      "\n",
      "\n",
      "Procurando a frase usando o re check: '[A-Z][a-z]'\n",
      "['Se']\n",
      "\n",
      "\n",
      "Procurando a frase usando o re check: '[0-9]+'\n",
      "['0', '1', '10', '20']\n",
      "\n",
      "\n"
     ]
    }
   ],
   "source": [
    "multi_re_find(verf2, text2)"
   ]
  },
  {
   "cell_type": "markdown",
   "metadata": {},
   "source": [
    "### 3. Escreva um programa em Python para encontrar sequências de letras minúsculas unidas com um underscore."
   ]
  },
  {
   "cell_type": "code",
   "execution_count": 184,
   "metadata": {},
   "outputs": [],
   "source": [
    "text3 = \"Sequencia de letras min_usculas usa_ndo ud_escore: teste_unde\"\n",
    "verif3 = ['[a-z]_[a-z]']"
   ]
  },
  {
   "cell_type": "code",
   "execution_count": 185,
   "metadata": {},
   "outputs": [
    {
     "name": "stdout",
     "output_type": "stream",
     "text": [
      "Procurando a frase usando o re check: '[a-z]_[a-z]'\n",
      "['n_u', 'a_n', 'd_e', 'e_u']\n",
      "\n",
      "\n"
     ]
    }
   ],
   "source": [
    "multi_re_find(verif3, text3)"
   ]
  },
  {
   "cell_type": "markdown",
   "metadata": {},
   "source": [
    "### 4. Escreva um programa em Python para encontrar seqüências de uma letra maiúscula seguida por letras minúsculas."
   ]
  },
  {
   "cell_type": "code",
   "execution_count": 91,
   "metadata": {},
   "outputs": [],
   "source": [
    "text4 = \"Sequencia de letra Maiuscula seguido por Letras Minusculas.\"\n",
    "verif4 = ['[A-Z][a-z]+']"
   ]
  },
  {
   "cell_type": "code",
   "execution_count": 92,
   "metadata": {},
   "outputs": [
    {
     "name": "stdout",
     "output_type": "stream",
     "text": [
      "Procurando a frase usando o re check: '[A-Z][a-z]+'\n",
      "['Sequencia', 'Maiuscula', 'Letras', 'Minusculas']\n",
      "\n",
      "\n"
     ]
    }
   ],
   "source": [
    "multi_re_find(verif4, text4)"
   ]
  },
  {
   "cell_type": "markdown",
   "metadata": {},
   "source": [
    "### 5. Escreva um programa em Python que corresponda a uma palavra contendo 'z'."
   ]
  },
  {
   "cell_type": "code",
   "execution_count": 337,
   "metadata": {},
   "outputs": [],
   "source": [
    "text5 = \"\"\"Texto de busca por palavras contendo a letra z, como por exemplo zebra, zoologico. \n",
    "            A letra z sozinha nao sera retornado na busca.\"\"\"\n",
    "verf5 = 'z'"
   ]
  },
  {
   "cell_type": "code",
   "execution_count": 347,
   "metadata": {},
   "outputs": [
    {
     "data": {
      "text/plain": [
       "['sozinha']"
      ]
     },
     "execution_count": 347,
     "metadata": {},
     "output_type": "execute_result"
    }
   ],
   "source": [
    "re.findall(r'\\w+z\\w+', text5)"
   ]
  },
  {
   "cell_type": "code",
   "execution_count": 345,
   "metadata": {},
   "outputs": [
    {
     "name": "stdout",
     "output_type": "stream",
     "text": [
      "zebra\n",
      "zoologico\n",
      "zinha\n"
     ]
    }
   ],
   "source": [
    "text = re.findall(r'z\\w+', text5)\n",
    "for e in text:\n",
    "    print(e)"
   ]
  },
  {
   "cell_type": "code",
   "execution_count": null,
   "metadata": {},
   "outputs": [],
   "source": []
  },
  {
   "cell_type": "code",
   "execution_count": 341,
   "metadata": {},
   "outputs": [
    {
     "name": "stdout",
     "output_type": "stream",
     "text": [
      "sozinha\n"
     ]
    }
   ],
   "source": [
    "text = re.findall(r'\\w+z\\w+', text5)\n",
    "for e in text:\n",
    "    print(e)"
   ]
  },
  {
   "cell_type": "code",
   "execution_count": 342,
   "metadata": {},
   "outputs": [],
   "source": [
    "def busca(patterns, phrase):\n",
    "    p = re.findall(r'\\w+'+ patterns + '\\w+',phrase)\n",
    "    p += re.findall(r''+ patterns + '\\w+',phrase)\n",
    "    print(p)"
   ]
  },
  {
   "cell_type": "code",
   "execution_count": 343,
   "metadata": {},
   "outputs": [
    {
     "name": "stdout",
     "output_type": "stream",
     "text": [
      "['sozinha', 'zebra', 'zoologico', 'zinha']\n"
     ]
    }
   ],
   "source": [
    "busca('z', text5)"
   ]
  },
  {
   "cell_type": "code",
   "execution_count": 344,
   "metadata": {},
   "outputs": [],
   "source": [
    "def multi_re_find(patterns, phrase):\n",
    "    for pattern in patterns:\n",
    "        print('Procurando a frase usando o re check: %r' %pattern)\n",
    "        print(re.findall(pattern, phrase))\n",
    "        print('\\n')"
   ]
  },
  {
   "cell_type": "code",
   "execution_count": null,
   "metadata": {},
   "outputs": [],
   "source": []
  }
 ],
 "metadata": {
  "kernelspec": {
   "display_name": "Python 3",
   "language": "python",
   "name": "python3"
  },
  "language_info": {
   "codemirror_mode": {
    "name": "ipython",
    "version": 3
   },
   "file_extension": ".py",
   "mimetype": "text/x-python",
   "name": "python",
   "nbconvert_exporter": "python",
   "pygments_lexer": "ipython3",
   "version": "3.7.3"
  }
 },
 "nbformat": 4,
 "nbformat_minor": 2
}
